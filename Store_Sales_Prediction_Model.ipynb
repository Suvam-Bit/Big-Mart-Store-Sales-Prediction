{
 "cells": [
  {
   "cell_type": "markdown",
   "metadata": {},
   "source": [
    "# Model Fitting\n",
    "\n",
    "Here we will try to fit the best model based on the the preprocessed data."
   ]
  },
  {
   "cell_type": "markdown",
   "metadata": {},
   "source": [
    "# What's in this notebook?\n",
    "\n",
    "First we try the following ML algorithms on the one-hot encoded data.\n",
    "\n",
    "1. Linear Regression\n",
    "2. Lasso Regression\n",
    "3. Ridge Regression\n",
    "4. Random Forest Regressor\n",
    "5. XGBoost Regressor\n",
    "\n",
    "Next we try the following ML algorithms on the non-encoded data.\n",
    "\n",
    "1. CatBoost Regressor"
   ]
  },
  {
   "cell_type": "code",
   "execution_count": 85,
   "metadata": {},
   "outputs": [],
   "source": [
    "import pandas as pd\n",
    "import numpy as np"
   ]
  },
  {
   "cell_type": "code",
   "execution_count": 86,
   "metadata": {},
   "outputs": [],
   "source": [
    "# Loading the one-hot encoded data\n",
    "df = pd.read_csv(\"https://raw.githubusercontent.com/Suvam-Bit/Datasets/main/Store%20Sales%20Prediction/preprocessed.csv\")"
   ]
  },
  {
   "cell_type": "code",
   "execution_count": 87,
   "metadata": {},
   "outputs": [
    {
     "data": {
      "text/html": [
       "<div>\n",
       "<style scoped>\n",
       "    .dataframe tbody tr th:only-of-type {\n",
       "        vertical-align: middle;\n",
       "    }\n",
       "\n",
       "    .dataframe tbody tr th {\n",
       "        vertical-align: top;\n",
       "    }\n",
       "\n",
       "    .dataframe thead th {\n",
       "        text-align: right;\n",
       "    }\n",
       "</style>\n",
       "<table border=\"1\" class=\"dataframe\">\n",
       "  <thead>\n",
       "    <tr style=\"text-align: right;\">\n",
       "      <th></th>\n",
       "      <th>Item_Weight</th>\n",
       "      <th>Item_Visibility</th>\n",
       "      <th>Item_MRP</th>\n",
       "      <th>Item_Outlet_Sales</th>\n",
       "      <th>Outlet_Age</th>\n",
       "      <th>Regular</th>\n",
       "      <th>Breads</th>\n",
       "      <th>Breakfast</th>\n",
       "      <th>Canned</th>\n",
       "      <th>Dairy</th>\n",
       "      <th>...</th>\n",
       "      <th>Snack Foods</th>\n",
       "      <th>Soft Drinks</th>\n",
       "      <th>Starchy Foods</th>\n",
       "      <th>Medium</th>\n",
       "      <th>Small</th>\n",
       "      <th>Tier 2</th>\n",
       "      <th>Tier 3</th>\n",
       "      <th>Supermarket Type1</th>\n",
       "      <th>Supermarket Type2</th>\n",
       "      <th>Supermarket Type3</th>\n",
       "    </tr>\n",
       "  </thead>\n",
       "  <tbody>\n",
       "    <tr>\n",
       "      <th>0</th>\n",
       "      <td>9.30</td>\n",
       "      <td>0.016047</td>\n",
       "      <td>249.8092</td>\n",
       "      <td>3735.1380</td>\n",
       "      <td>21</td>\n",
       "      <td>0</td>\n",
       "      <td>0</td>\n",
       "      <td>0</td>\n",
       "      <td>0</td>\n",
       "      <td>1</td>\n",
       "      <td>...</td>\n",
       "      <td>0</td>\n",
       "      <td>0</td>\n",
       "      <td>0</td>\n",
       "      <td>1</td>\n",
       "      <td>0</td>\n",
       "      <td>0</td>\n",
       "      <td>0</td>\n",
       "      <td>1</td>\n",
       "      <td>0</td>\n",
       "      <td>0</td>\n",
       "    </tr>\n",
       "    <tr>\n",
       "      <th>1</th>\n",
       "      <td>5.92</td>\n",
       "      <td>0.019278</td>\n",
       "      <td>48.2692</td>\n",
       "      <td>443.4228</td>\n",
       "      <td>11</td>\n",
       "      <td>1</td>\n",
       "      <td>0</td>\n",
       "      <td>0</td>\n",
       "      <td>0</td>\n",
       "      <td>0</td>\n",
       "      <td>...</td>\n",
       "      <td>0</td>\n",
       "      <td>1</td>\n",
       "      <td>0</td>\n",
       "      <td>1</td>\n",
       "      <td>0</td>\n",
       "      <td>0</td>\n",
       "      <td>1</td>\n",
       "      <td>0</td>\n",
       "      <td>1</td>\n",
       "      <td>0</td>\n",
       "    </tr>\n",
       "    <tr>\n",
       "      <th>2</th>\n",
       "      <td>17.50</td>\n",
       "      <td>0.016760</td>\n",
       "      <td>141.6180</td>\n",
       "      <td>2097.2700</td>\n",
       "      <td>21</td>\n",
       "      <td>0</td>\n",
       "      <td>0</td>\n",
       "      <td>0</td>\n",
       "      <td>0</td>\n",
       "      <td>0</td>\n",
       "      <td>...</td>\n",
       "      <td>0</td>\n",
       "      <td>0</td>\n",
       "      <td>0</td>\n",
       "      <td>1</td>\n",
       "      <td>0</td>\n",
       "      <td>0</td>\n",
       "      <td>0</td>\n",
       "      <td>1</td>\n",
       "      <td>0</td>\n",
       "      <td>0</td>\n",
       "    </tr>\n",
       "    <tr>\n",
       "      <th>3</th>\n",
       "      <td>19.20</td>\n",
       "      <td>0.022911</td>\n",
       "      <td>182.0950</td>\n",
       "      <td>732.3800</td>\n",
       "      <td>22</td>\n",
       "      <td>1</td>\n",
       "      <td>0</td>\n",
       "      <td>0</td>\n",
       "      <td>0</td>\n",
       "      <td>0</td>\n",
       "      <td>...</td>\n",
       "      <td>0</td>\n",
       "      <td>0</td>\n",
       "      <td>0</td>\n",
       "      <td>0</td>\n",
       "      <td>1</td>\n",
       "      <td>0</td>\n",
       "      <td>1</td>\n",
       "      <td>0</td>\n",
       "      <td>0</td>\n",
       "      <td>0</td>\n",
       "    </tr>\n",
       "    <tr>\n",
       "      <th>4</th>\n",
       "      <td>8.93</td>\n",
       "      <td>0.013217</td>\n",
       "      <td>53.8614</td>\n",
       "      <td>994.7052</td>\n",
       "      <td>33</td>\n",
       "      <td>0</td>\n",
       "      <td>0</td>\n",
       "      <td>0</td>\n",
       "      <td>0</td>\n",
       "      <td>0</td>\n",
       "      <td>...</td>\n",
       "      <td>0</td>\n",
       "      <td>0</td>\n",
       "      <td>0</td>\n",
       "      <td>0</td>\n",
       "      <td>0</td>\n",
       "      <td>0</td>\n",
       "      <td>1</td>\n",
       "      <td>1</td>\n",
       "      <td>0</td>\n",
       "      <td>0</td>\n",
       "    </tr>\n",
       "  </tbody>\n",
       "</table>\n",
       "<p>5 rows × 28 columns</p>\n",
       "</div>"
      ],
      "text/plain": [
       "   Item_Weight  Item_Visibility  Item_MRP  Item_Outlet_Sales  Outlet_Age  \\\n",
       "0         9.30         0.016047  249.8092          3735.1380          21   \n",
       "1         5.92         0.019278   48.2692           443.4228          11   \n",
       "2        17.50         0.016760  141.6180          2097.2700          21   \n",
       "3        19.20         0.022911  182.0950           732.3800          22   \n",
       "4         8.93         0.013217   53.8614           994.7052          33   \n",
       "\n",
       "   Regular  Breads  Breakfast  Canned  Dairy  ...  Snack Foods  Soft Drinks  \\\n",
       "0        0       0          0       0      1  ...            0            0   \n",
       "1        1       0          0       0      0  ...            0            1   \n",
       "2        0       0          0       0      0  ...            0            0   \n",
       "3        1       0          0       0      0  ...            0            0   \n",
       "4        0       0          0       0      0  ...            0            0   \n",
       "\n",
       "   Starchy Foods  Medium  Small  Tier 2  Tier 3  Supermarket Type1  \\\n",
       "0              0       1      0       0       0                  1   \n",
       "1              0       1      0       0       1                  0   \n",
       "2              0       1      0       0       0                  1   \n",
       "3              0       0      1       0       1                  0   \n",
       "4              0       0      0       0       1                  1   \n",
       "\n",
       "   Supermarket Type2  Supermarket Type3  \n",
       "0                  0                  0  \n",
       "1                  1                  0  \n",
       "2                  0                  0  \n",
       "3                  0                  0  \n",
       "4                  0                  0  \n",
       "\n",
       "[5 rows x 28 columns]"
      ]
     },
     "execution_count": 87,
     "metadata": {},
     "output_type": "execute_result"
    }
   ],
   "source": [
    "df.head()"
   ]
  },
  {
   "cell_type": "markdown",
   "metadata": {},
   "source": [
    "Now we transform the item visibility and the item oulet sales so that they follow Gaussian distribution like what we have seen in the preprocessing notebook."
   ]
  },
  {
   "cell_type": "code",
   "execution_count": 88,
   "metadata": {},
   "outputs": [],
   "source": [
    "df['Item_Visibility'] = df['Item_Visibility']**(1/5)\n",
    "df['Item_Outlet_Sales'] = df['Item_Outlet_Sales']**(1/4)"
   ]
  },
  {
   "cell_type": "code",
   "execution_count": 89,
   "metadata": {},
   "outputs": [],
   "source": [
    "X = df.drop(\"Item_Outlet_Sales\", axis=1)\n",
    "y = df['Item_Outlet_Sales']"
   ]
  },
  {
   "cell_type": "markdown",
   "metadata": {},
   "source": [
    "# Linear Regression"
   ]
  },
  {
   "cell_type": "code",
   "execution_count": 90,
   "metadata": {},
   "outputs": [
    {
     "name": "stdout",
     "output_type": "stream",
     "text": [
      "R2 Score:  0.6935268413983096\n"
     ]
    }
   ],
   "source": [
    "from sklearn.linear_model import LinearRegression\n",
    "from sklearn.model_selection import cross_val_score\n",
    " \n",
    "lin_reg_model = LinearRegression()\n",
    "\n",
    "scores_lm = cross_val_score(lin_reg_model, X = X, y = y, cv = 5)\n",
    "print(\"R2 Score: \",scores_lm.mean())"
   ]
  },
  {
   "cell_type": "markdown",
   "metadata": {},
   "source": [
    "The R2 score for Linear Regression is 69.35%"
   ]
  },
  {
   "cell_type": "markdown",
   "metadata": {},
   "source": [
    "# Lasso Regression"
   ]
  },
  {
   "cell_type": "code",
   "execution_count": 9,
   "metadata": {},
   "outputs": [
    {
     "name": "stdout",
     "output_type": "stream",
     "text": [
      "Fitting 5 folds for each of 8 candidates, totalling 40 fits\n",
      "R2 Score:  0.6937715314543065\n",
      "Best parameters:  {'alpha': 0.001}\n"
     ]
    }
   ],
   "source": [
    "from sklearn.linear_model import Lasso\n",
    "from sklearn.model_selection import GridSearchCV\n",
    "\n",
    "param_grid = {'alpha':[.0001,.0005,.0009,.001,.002,.005,.01,.05]}\n",
    "\n",
    "lasso_reg = GridSearchCV(Lasso(), param_grid = param_grid, cv = 5, n_jobs = -1, verbose = 1, return_train_score=False)\n",
    "\n",
    "lasso_reg.fit(df_lm_X, df_lm_y)\n",
    "\n",
    "print(\"R2 Score: \",lasso_reg.best_score_)\n",
    "print(\"Best parameters: \",lasso_reg.best_params_)"
   ]
  },
  {
   "cell_type": "markdown",
   "metadata": {},
   "source": [
    "After hyper-parameter tuning, the R2 score for Lasso Regression is 69.38%."
   ]
  },
  {
   "cell_type": "markdown",
   "metadata": {},
   "source": [
    "# Ridge Regression"
   ]
  },
  {
   "cell_type": "code",
   "execution_count": 10,
   "metadata": {
    "scrolled": true
   },
   "outputs": [
    {
     "name": "stdout",
     "output_type": "stream",
     "text": [
      "Fitting 5 folds for each of 9 candidates, totalling 45 fits\n",
      "R2 Score:  0.6935269416451673\n",
      "Best parameters:  {'alpha': 0.05}\n"
     ]
    }
   ],
   "source": [
    "from sklearn.linear_model import Ridge\n",
    "from sklearn.model_selection import GridSearchCV\n",
    "\n",
    "param_grid = {'alpha':[.01,.05,.1,.2,.3,.5,.7,.9,1]}\n",
    "\n",
    "ridge_reg = GridSearchCV(Ridge(), param_grid = param_grid, cv = 5, n_jobs = -1, verbose = 1, return_train_score=False)\n",
    "\n",
    "ridge_reg.fit(df_lm_X, df_lm_y)\n",
    "\n",
    "print(\"R2 Score: \",ridge_reg.best_score_)\n",
    "print(\"Best parameters: \",ridge_reg.best_params_)"
   ]
  },
  {
   "cell_type": "markdown",
   "metadata": {},
   "source": [
    "After hyper-parameter tuning, the R2 score for Ridge Regression is 69.35%."
   ]
  },
  {
   "cell_type": "markdown",
   "metadata": {},
   "source": [
    "# Random Forest Regressor"
   ]
  },
  {
   "cell_type": "code",
   "execution_count": 18,
   "metadata": {},
   "outputs": [
    {
     "name": "stdout",
     "output_type": "stream",
     "text": [
      "Fitting 5 folds for each of 256 candidates, totalling 1280 fits\n"
     ]
    },
    {
     "data": {
      "text/plain": [
       "GridSearchCV(cv=5, estimator=RandomForestRegressor(), n_jobs=-1,\n",
       "             param_grid={'max_depth': [5, 6, 7, 8],\n",
       "                         'min_samples_leaf': [5, 10, 15, 20],\n",
       "                         'min_samples_split': [8, 9, 10, 11],\n",
       "                         'n_estimators': [100, 150, 200, 250]},\n",
       "             verbose=2)"
      ]
     },
     "execution_count": 18,
     "metadata": {},
     "output_type": "execute_result"
    }
   ],
   "source": [
    "from sklearn.ensemble import RandomForestRegressor\n",
    "from sklearn.model_selection import RandomizedSearchCV\n",
    "\n",
    "param_grid = {'n_estimators':[100,150,200,250] ,\n",
    "              'max_depth': [5,6,7,8],\n",
    "              'min_samples_split': [8,9,10,11],\n",
    "              'min_samples_leaf': [20,22,24,25]}\n",
    "\n",
    "\n",
    "rf_reg = RandomizedSearchCV(RandomForestRegressor(), param_distributions = param_grid, cv = 5, n_iter=100, n_jobs = -1, verbose = 2, return_train_score=False)\n",
    "\n",
    "rf_reg.fit(X = X, y = y)"
   ]
  },
  {
   "cell_type": "code",
   "execution_count": 19,
   "metadata": {},
   "outputs": [
    {
     "name": "stdout",
     "output_type": "stream",
     "text": [
      "0.7093335255686204\n",
      "{'max_depth': 6, 'min_samples_leaf': 20, 'min_samples_split': 11, 'n_estimators': 250}\n"
     ]
    }
   ],
   "source": [
    "print(rf_reg.best_score_)\n",
    "print(rf_reg.best_params_)"
   ]
  },
  {
   "cell_type": "markdown",
   "metadata": {},
   "source": [
    "After hyper-parameter tuning, the R2 score for Random Forest Regressor is 70.93%."
   ]
  },
  {
   "cell_type": "markdown",
   "metadata": {},
   "source": [
    "# XG Boost"
   ]
  },
  {
   "cell_type": "code",
   "execution_count": 119,
   "metadata": {},
   "outputs": [
    {
     "name": "stdout",
     "output_type": "stream",
     "text": [
      "Fitting 5 folds for each of 100 candidates, totalling 500 fits\n"
     ]
    },
    {
     "data": {
      "text/plain": [
       "RandomizedSearchCV(cv=5,\n",
       "                   estimator=XGBRegressor(base_score=None, booster=None,\n",
       "                                          colsample_bylevel=None,\n",
       "                                          colsample_bynode=None,\n",
       "                                          colsample_bytree=None, gamma=None,\n",
       "                                          gpu_id=None, importance_type='gain',\n",
       "                                          interaction_constraints=None,\n",
       "                                          learning_rate=None,\n",
       "                                          max_delta_step=None, max_depth=None,\n",
       "                                          min_child_weight=None, missing=nan,\n",
       "                                          monotone_constraints=None,\n",
       "                                          n_estimators=100, n...\n",
       "                                          random_state=None, reg_alpha=None,\n",
       "                                          reg_lambda=None,\n",
       "                                          scale_pos_weight=None, subsample=None,\n",
       "                                          tree_method=None,\n",
       "                                          validate_parameters=None,\n",
       "                                          verbosity=None),\n",
       "                   n_iter=100, n_jobs=-1,\n",
       "                   param_distributions={'base_score': [3, 4, 5, 6, 7, 8],\n",
       "                                        'booster': ['gbtree'],\n",
       "                                        'max_depth': [3, 4, 5, 6],\n",
       "                                        'min_child_weight': [74, 75, 78, 79, 80,\n",
       "                                                             81],\n",
       "                                        'n_estimators': [15, 17, 18, 19, 20, 22,\n",
       "                                                         25, 26, 27, 28, 29,\n",
       "                                                         30]},\n",
       "                   verbose=2)"
      ]
     },
     "execution_count": 119,
     "metadata": {},
     "output_type": "execute_result"
    }
   ],
   "source": [
    "from xgboost import XGBRegressor\n",
    "from sklearn.model_selection import RandomizedSearchCV\n",
    "\n",
    "xgb_param_grid = {'n_estimators': [15,17,18,19,20,22,25,26,27,28,29,30],\n",
    "              'booster': ['gbtree'],\n",
    "              'max_depth': [3,4,5,6],\n",
    "              'min_child_weight': [74,75,78,79,80,81],\n",
    "              'base_score': [3,4,5,6,7,8]}\n",
    "\n",
    "xgb_reg = RandomizedSearchCV(XGBRegressor(), param_distributions = xgb_param_grid, cv = 5, n_iter=100, n_jobs = -1, verbose = 2, return_train_score=False)\n",
    "\n",
    "xgb_reg.fit(X = X, y = y)"
   ]
  },
  {
   "cell_type": "code",
   "execution_count": 120,
   "metadata": {},
   "outputs": [
    {
     "name": "stdout",
     "output_type": "stream",
     "text": [
      "0.7081608923450651\n",
      "{'n_estimators': 19, 'min_child_weight': 75, 'max_depth': 4, 'booster': 'gbtree', 'base_score': 6}\n"
     ]
    }
   ],
   "source": [
    "print(xgb_reg.best_score_)\n",
    "print(xgb_reg.best_params_)"
   ]
  },
  {
   "cell_type": "markdown",
   "metadata": {},
   "source": [
    "After hyper-parameter tuning, the R2 score for XGBoost Regressor is 70.82%."
   ]
  },
  {
   "cell_type": "markdown",
   "metadata": {},
   "source": [
    "# CatBoost\n"
   ]
  },
  {
   "cell_type": "code",
   "execution_count": 121,
   "metadata": {},
   "outputs": [
    {
     "data": {
      "text/html": [
       "<div>\n",
       "<style scoped>\n",
       "    .dataframe tbody tr th:only-of-type {\n",
       "        vertical-align: middle;\n",
       "    }\n",
       "\n",
       "    .dataframe tbody tr th {\n",
       "        vertical-align: top;\n",
       "    }\n",
       "\n",
       "    .dataframe thead th {\n",
       "        text-align: right;\n",
       "    }\n",
       "</style>\n",
       "<table border=\"1\" class=\"dataframe\">\n",
       "  <thead>\n",
       "    <tr style=\"text-align: right;\">\n",
       "      <th></th>\n",
       "      <th>Item_Weight</th>\n",
       "      <th>Item_Fat_Content</th>\n",
       "      <th>Item_Visibility</th>\n",
       "      <th>Item_Type</th>\n",
       "      <th>Item_MRP</th>\n",
       "      <th>Outlet_Size</th>\n",
       "      <th>Outlet_Location_Type</th>\n",
       "      <th>Outlet_Type</th>\n",
       "      <th>Item_Outlet_Sales</th>\n",
       "      <th>Outlet_Age</th>\n",
       "    </tr>\n",
       "  </thead>\n",
       "  <tbody>\n",
       "    <tr>\n",
       "      <th>0</th>\n",
       "      <td>9.30</td>\n",
       "      <td>Low Fat</td>\n",
       "      <td>0.016047</td>\n",
       "      <td>Dairy</td>\n",
       "      <td>249.8092</td>\n",
       "      <td>Medium</td>\n",
       "      <td>Tier 1</td>\n",
       "      <td>Supermarket Type1</td>\n",
       "      <td>3735.1380</td>\n",
       "      <td>21</td>\n",
       "    </tr>\n",
       "    <tr>\n",
       "      <th>1</th>\n",
       "      <td>5.92</td>\n",
       "      <td>Regular</td>\n",
       "      <td>0.019278</td>\n",
       "      <td>Soft Drinks</td>\n",
       "      <td>48.2692</td>\n",
       "      <td>Medium</td>\n",
       "      <td>Tier 3</td>\n",
       "      <td>Supermarket Type2</td>\n",
       "      <td>443.4228</td>\n",
       "      <td>11</td>\n",
       "    </tr>\n",
       "    <tr>\n",
       "      <th>2</th>\n",
       "      <td>17.50</td>\n",
       "      <td>Low Fat</td>\n",
       "      <td>0.016760</td>\n",
       "      <td>Meat</td>\n",
       "      <td>141.6180</td>\n",
       "      <td>Medium</td>\n",
       "      <td>Tier 1</td>\n",
       "      <td>Supermarket Type1</td>\n",
       "      <td>2097.2700</td>\n",
       "      <td>21</td>\n",
       "    </tr>\n",
       "    <tr>\n",
       "      <th>3</th>\n",
       "      <td>19.20</td>\n",
       "      <td>Regular</td>\n",
       "      <td>0.022911</td>\n",
       "      <td>Fruits and Vegetables</td>\n",
       "      <td>182.0950</td>\n",
       "      <td>Small</td>\n",
       "      <td>Tier 3</td>\n",
       "      <td>Grocery Store</td>\n",
       "      <td>732.3800</td>\n",
       "      <td>22</td>\n",
       "    </tr>\n",
       "    <tr>\n",
       "      <th>4</th>\n",
       "      <td>8.93</td>\n",
       "      <td>Low Fat</td>\n",
       "      <td>0.013217</td>\n",
       "      <td>Household</td>\n",
       "      <td>53.8614</td>\n",
       "      <td>High</td>\n",
       "      <td>Tier 3</td>\n",
       "      <td>Supermarket Type1</td>\n",
       "      <td>994.7052</td>\n",
       "      <td>33</td>\n",
       "    </tr>\n",
       "  </tbody>\n",
       "</table>\n",
       "</div>"
      ],
      "text/plain": [
       "   Item_Weight Item_Fat_Content  Item_Visibility              Item_Type  \\\n",
       "0         9.30          Low Fat         0.016047                  Dairy   \n",
       "1         5.92          Regular         0.019278            Soft Drinks   \n",
       "2        17.50          Low Fat         0.016760                   Meat   \n",
       "3        19.20          Regular         0.022911  Fruits and Vegetables   \n",
       "4         8.93          Low Fat         0.013217              Household   \n",
       "\n",
       "   Item_MRP Outlet_Size Outlet_Location_Type        Outlet_Type  \\\n",
       "0  249.8092      Medium               Tier 1  Supermarket Type1   \n",
       "1   48.2692      Medium               Tier 3  Supermarket Type2   \n",
       "2  141.6180      Medium               Tier 1  Supermarket Type1   \n",
       "3  182.0950       Small               Tier 3      Grocery Store   \n",
       "4   53.8614        High               Tier 3  Supermarket Type1   \n",
       "\n",
       "   Item_Outlet_Sales  Outlet_Age  \n",
       "0          3735.1380          21  \n",
       "1           443.4228          11  \n",
       "2          2097.2700          21  \n",
       "3           732.3800          22  \n",
       "4           994.7052          33  "
      ]
     },
     "execution_count": 121,
     "metadata": {},
     "output_type": "execute_result"
    }
   ],
   "source": [
    "# Loading the non-encoded data\n",
    "df2 = pd.read_csv('https://raw.githubusercontent.com/Suvam-Bit/Datasets/main/Store%20Sales%20Prediction/preprocessed2.csv')\n",
    "df2.head()"
   ]
  },
  {
   "cell_type": "markdown",
   "metadata": {},
   "source": [
    "Now we transform the item visibility and the item oulet sales so that they follow Gaussian distribution like what we have seen in the preprocessing notebook."
   ]
  },
  {
   "cell_type": "code",
   "execution_count": 122,
   "metadata": {},
   "outputs": [],
   "source": [
    "df2['Item_Visibility'] = df2['Item_Visibility']**(1/5)\n",
    "df2['Item_Outlet_Sales'] = df2['Item_Outlet_Sales']**(1/4)"
   ]
  },
  {
   "cell_type": "code",
   "execution_count": 123,
   "metadata": {},
   "outputs": [
    {
     "data": {
      "text/html": [
       "<div>\n",
       "<style scoped>\n",
       "    .dataframe tbody tr th:only-of-type {\n",
       "        vertical-align: middle;\n",
       "    }\n",
       "\n",
       "    .dataframe tbody tr th {\n",
       "        vertical-align: top;\n",
       "    }\n",
       "\n",
       "    .dataframe thead th {\n",
       "        text-align: right;\n",
       "    }\n",
       "</style>\n",
       "<table border=\"1\" class=\"dataframe\">\n",
       "  <thead>\n",
       "    <tr style=\"text-align: right;\">\n",
       "      <th></th>\n",
       "      <th>Item_Weight</th>\n",
       "      <th>Item_Fat_Content</th>\n",
       "      <th>Item_Visibility</th>\n",
       "      <th>Item_Type</th>\n",
       "      <th>Item_MRP</th>\n",
       "      <th>Outlet_Size</th>\n",
       "      <th>Outlet_Location_Type</th>\n",
       "      <th>Outlet_Type</th>\n",
       "      <th>Item_Outlet_Sales</th>\n",
       "      <th>Outlet_Age</th>\n",
       "    </tr>\n",
       "  </thead>\n",
       "  <tbody>\n",
       "    <tr>\n",
       "      <th>0</th>\n",
       "      <td>9.30</td>\n",
       "      <td>Low Fat</td>\n",
       "      <td>0.437603</td>\n",
       "      <td>Dairy</td>\n",
       "      <td>249.8092</td>\n",
       "      <td>Medium</td>\n",
       "      <td>Tier 1</td>\n",
       "      <td>Supermarket Type1</td>\n",
       "      <td>7.817658</td>\n",
       "      <td>21</td>\n",
       "    </tr>\n",
       "    <tr>\n",
       "      <th>1</th>\n",
       "      <td>5.92</td>\n",
       "      <td>Regular</td>\n",
       "      <td>0.453956</td>\n",
       "      <td>Soft Drinks</td>\n",
       "      <td>48.2692</td>\n",
       "      <td>Medium</td>\n",
       "      <td>Tier 3</td>\n",
       "      <td>Supermarket Type2</td>\n",
       "      <td>4.588857</td>\n",
       "      <td>11</td>\n",
       "    </tr>\n",
       "    <tr>\n",
       "      <th>2</th>\n",
       "      <td>17.50</td>\n",
       "      <td>Low Fat</td>\n",
       "      <td>0.441423</td>\n",
       "      <td>Meat</td>\n",
       "      <td>141.6180</td>\n",
       "      <td>Medium</td>\n",
       "      <td>Tier 1</td>\n",
       "      <td>Supermarket Type1</td>\n",
       "      <td>6.767271</td>\n",
       "      <td>21</td>\n",
       "    </tr>\n",
       "    <tr>\n",
       "      <th>3</th>\n",
       "      <td>19.20</td>\n",
       "      <td>Regular</td>\n",
       "      <td>0.469902</td>\n",
       "      <td>Fruits and Vegetables</td>\n",
       "      <td>182.0950</td>\n",
       "      <td>Small</td>\n",
       "      <td>Tier 3</td>\n",
       "      <td>Grocery Store</td>\n",
       "      <td>5.202165</td>\n",
       "      <td>22</td>\n",
       "    </tr>\n",
       "    <tr>\n",
       "      <th>4</th>\n",
       "      <td>8.93</td>\n",
       "      <td>Low Fat</td>\n",
       "      <td>0.420944</td>\n",
       "      <td>Household</td>\n",
       "      <td>53.8614</td>\n",
       "      <td>High</td>\n",
       "      <td>Tier 3</td>\n",
       "      <td>Supermarket Type1</td>\n",
       "      <td>5.615955</td>\n",
       "      <td>33</td>\n",
       "    </tr>\n",
       "  </tbody>\n",
       "</table>\n",
       "</div>"
      ],
      "text/plain": [
       "   Item_Weight Item_Fat_Content  Item_Visibility              Item_Type  \\\n",
       "0         9.30          Low Fat         0.437603                  Dairy   \n",
       "1         5.92          Regular         0.453956            Soft Drinks   \n",
       "2        17.50          Low Fat         0.441423                   Meat   \n",
       "3        19.20          Regular         0.469902  Fruits and Vegetables   \n",
       "4         8.93          Low Fat         0.420944              Household   \n",
       "\n",
       "   Item_MRP Outlet_Size Outlet_Location_Type        Outlet_Type  \\\n",
       "0  249.8092      Medium               Tier 1  Supermarket Type1   \n",
       "1   48.2692      Medium               Tier 3  Supermarket Type2   \n",
       "2  141.6180      Medium               Tier 1  Supermarket Type1   \n",
       "3  182.0950       Small               Tier 3      Grocery Store   \n",
       "4   53.8614        High               Tier 3  Supermarket Type1   \n",
       "\n",
       "   Item_Outlet_Sales  Outlet_Age  \n",
       "0           7.817658          21  \n",
       "1           4.588857          11  \n",
       "2           6.767271          21  \n",
       "3           5.202165          22  \n",
       "4           5.615955          33  "
      ]
     },
     "execution_count": 123,
     "metadata": {},
     "output_type": "execute_result"
    }
   ],
   "source": [
    "df2.head()"
   ]
  },
  {
   "cell_type": "code",
   "execution_count": 124,
   "metadata": {},
   "outputs": [],
   "source": [
    "X_cb = df2.drop('Item_Outlet_Sales', axis = 1)\n",
    "y_cb = df2['Item_Outlet_Sales']"
   ]
  },
  {
   "cell_type": "code",
   "execution_count": 125,
   "metadata": {},
   "outputs": [],
   "source": [
    "# Label encoding of categorical variables\n",
    "cat_var = ['Item_Fat_Content', 'Item_Type', 'Outlet_Size', 'Outlet_Location_Type', 'Outlet_Type']\n",
    "\n",
    "for i in cat_var:\n",
    "    X_cb[i] = X_cb[i].astype('category').cat.codes"
   ]
  },
  {
   "cell_type": "code",
   "execution_count": 126,
   "metadata": {},
   "outputs": [
    {
     "data": {
      "text/html": [
       "<div>\n",
       "<style scoped>\n",
       "    .dataframe tbody tr th:only-of-type {\n",
       "        vertical-align: middle;\n",
       "    }\n",
       "\n",
       "    .dataframe tbody tr th {\n",
       "        vertical-align: top;\n",
       "    }\n",
       "\n",
       "    .dataframe thead th {\n",
       "        text-align: right;\n",
       "    }\n",
       "</style>\n",
       "<table border=\"1\" class=\"dataframe\">\n",
       "  <thead>\n",
       "    <tr style=\"text-align: right;\">\n",
       "      <th></th>\n",
       "      <th>Item_Weight</th>\n",
       "      <th>Item_Fat_Content</th>\n",
       "      <th>Item_Visibility</th>\n",
       "      <th>Item_Type</th>\n",
       "      <th>Item_MRP</th>\n",
       "      <th>Outlet_Size</th>\n",
       "      <th>Outlet_Location_Type</th>\n",
       "      <th>Outlet_Type</th>\n",
       "      <th>Outlet_Age</th>\n",
       "    </tr>\n",
       "  </thead>\n",
       "  <tbody>\n",
       "    <tr>\n",
       "      <th>0</th>\n",
       "      <td>9.30</td>\n",
       "      <td>0</td>\n",
       "      <td>0.437603</td>\n",
       "      <td>4</td>\n",
       "      <td>249.8092</td>\n",
       "      <td>1</td>\n",
       "      <td>0</td>\n",
       "      <td>1</td>\n",
       "      <td>21</td>\n",
       "    </tr>\n",
       "    <tr>\n",
       "      <th>1</th>\n",
       "      <td>5.92</td>\n",
       "      <td>1</td>\n",
       "      <td>0.453956</td>\n",
       "      <td>14</td>\n",
       "      <td>48.2692</td>\n",
       "      <td>1</td>\n",
       "      <td>2</td>\n",
       "      <td>2</td>\n",
       "      <td>11</td>\n",
       "    </tr>\n",
       "    <tr>\n",
       "      <th>2</th>\n",
       "      <td>17.50</td>\n",
       "      <td>0</td>\n",
       "      <td>0.441423</td>\n",
       "      <td>10</td>\n",
       "      <td>141.6180</td>\n",
       "      <td>1</td>\n",
       "      <td>0</td>\n",
       "      <td>1</td>\n",
       "      <td>21</td>\n",
       "    </tr>\n",
       "    <tr>\n",
       "      <th>3</th>\n",
       "      <td>19.20</td>\n",
       "      <td>1</td>\n",
       "      <td>0.469902</td>\n",
       "      <td>6</td>\n",
       "      <td>182.0950</td>\n",
       "      <td>2</td>\n",
       "      <td>2</td>\n",
       "      <td>0</td>\n",
       "      <td>22</td>\n",
       "    </tr>\n",
       "    <tr>\n",
       "      <th>4</th>\n",
       "      <td>8.93</td>\n",
       "      <td>0</td>\n",
       "      <td>0.420944</td>\n",
       "      <td>9</td>\n",
       "      <td>53.8614</td>\n",
       "      <td>0</td>\n",
       "      <td>2</td>\n",
       "      <td>1</td>\n",
       "      <td>33</td>\n",
       "    </tr>\n",
       "  </tbody>\n",
       "</table>\n",
       "</div>"
      ],
      "text/plain": [
       "   Item_Weight  Item_Fat_Content  Item_Visibility  Item_Type  Item_MRP  \\\n",
       "0         9.30                 0         0.437603          4  249.8092   \n",
       "1         5.92                 1         0.453956         14   48.2692   \n",
       "2        17.50                 0         0.441423         10  141.6180   \n",
       "3        19.20                 1         0.469902          6  182.0950   \n",
       "4         8.93                 0         0.420944          9   53.8614   \n",
       "\n",
       "   Outlet_Size  Outlet_Location_Type  Outlet_Type  Outlet_Age  \n",
       "0            1                     0            1          21  \n",
       "1            1                     2            2          11  \n",
       "2            1                     0            1          21  \n",
       "3            2                     2            0          22  \n",
       "4            0                     2            1          33  "
      ]
     },
     "execution_count": 126,
     "metadata": {},
     "output_type": "execute_result"
    }
   ],
   "source": [
    "X_cb.head()"
   ]
  },
  {
   "cell_type": "code",
   "execution_count": 127,
   "metadata": {},
   "outputs": [],
   "source": [
    "item_type_labels = {}\n",
    "\n",
    "for i in range(len(df2)):\n",
    "    item_type_labels[df2['Item_Type'][i]] = X_cb['Item_Type'][i]"
   ]
  },
  {
   "cell_type": "code",
   "execution_count": 128,
   "metadata": {
    "scrolled": false
   },
   "outputs": [
    {
     "data": {
      "text/plain": [
       "{'Dairy': 4,\n",
       " 'Soft Drinks': 14,\n",
       " 'Meat': 10,\n",
       " 'Fruits and Vegetables': 6,\n",
       " 'Household': 9,\n",
       " 'Baking Goods': 0,\n",
       " 'Snack Foods': 13,\n",
       " 'Frozen Foods': 5,\n",
       " 'Breakfast': 2,\n",
       " 'Health and Hygiene': 8,\n",
       " 'Hard Drinks': 7,\n",
       " 'Canned': 3,\n",
       " 'Breads': 1,\n",
       " 'Starchy Foods': 15,\n",
       " 'Others': 11,\n",
       " 'Seafood': 12}"
      ]
     },
     "execution_count": 128,
     "metadata": {},
     "output_type": "execute_result"
    }
   ],
   "source": [
    "item_type_labels"
   ]
  },
  {
   "cell_type": "code",
   "execution_count": 130,
   "metadata": {
    "collapsed": true
   },
   "outputs": [
    {
     "name": "stdout",
     "output_type": "stream",
     "text": [
      "Fitting 5 folds for each of 200 candidates, totalling 1000 fits\n",
      "0:\tlearn: 1.4221156\ttotal: 915us\tremaining: 141ms\n",
      "1:\tlearn: 1.3770421\ttotal: 1.9ms\tremaining: 145ms\n",
      "2:\tlearn: 1.3344008\ttotal: 3.1ms\tremaining: 157ms\n",
      "3:\tlearn: 1.2950543\ttotal: 3.92ms\tremaining: 148ms\n",
      "4:\tlearn: 1.2587915\ttotal: 4.86ms\tremaining: 146ms\n",
      "5:\tlearn: 1.2250997\ttotal: 5.94ms\tremaining: 148ms\n",
      "6:\tlearn: 1.1935005\ttotal: 6.86ms\tremaining: 145ms\n",
      "7:\tlearn: 1.1642532\ttotal: 8.03ms\tremaining: 147ms\n",
      "8:\tlearn: 1.1398731\ttotal: 9.06ms\tremaining: 147ms\n",
      "9:\tlearn: 1.1140722\ttotal: 10.1ms\tremaining: 147ms\n",
      "10:\tlearn: 1.0896101\ttotal: 11ms\tremaining: 144ms\n",
      "11:\tlearn: 1.0670963\ttotal: 12.2ms\tremaining: 145ms\n",
      "12:\tlearn: 1.0471381\ttotal: 13.4ms\tremaining: 146ms\n",
      "13:\tlearn: 1.0274364\ttotal: 14.4ms\tremaining: 145ms\n",
      "14:\tlearn: 1.0102304\ttotal: 15.4ms\tremaining: 144ms\n",
      "15:\tlearn: 0.9944436\ttotal: 16.6ms\tremaining: 144ms\n",
      "16:\tlearn: 0.9795282\ttotal: 17.9ms\tremaining: 145ms\n",
      "17:\tlearn: 0.9659342\ttotal: 18.9ms\tremaining: 144ms\n",
      "18:\tlearn: 0.9526385\ttotal: 20.1ms\tremaining: 144ms\n",
      "19:\tlearn: 0.9407460\ttotal: 21.3ms\tremaining: 143ms\n",
      "20:\tlearn: 0.9293819\ttotal: 22.4ms\tremaining: 143ms\n",
      "21:\tlearn: 0.9195128\ttotal: 23.3ms\tremaining: 141ms\n",
      "22:\tlearn: 0.9098132\ttotal: 24.3ms\tremaining: 139ms\n",
      "23:\tlearn: 0.9016482\ttotal: 25.3ms\tremaining: 138ms\n",
      "24:\tlearn: 0.8934799\ttotal: 26.5ms\tremaining: 138ms\n",
      "25:\tlearn: 0.8857045\ttotal: 27.6ms\tremaining: 137ms\n",
      "26:\tlearn: 0.8788286\ttotal: 28.5ms\tremaining: 135ms\n",
      "27:\tlearn: 0.8728477\ttotal: 29.5ms\tremaining: 134ms\n",
      "28:\tlearn: 0.8667319\ttotal: 30.7ms\tremaining: 133ms\n",
      "29:\tlearn: 0.8614307\ttotal: 31.7ms\tremaining: 132ms\n",
      "30:\tlearn: 0.8561183\ttotal: 33.4ms\tremaining: 134ms\n",
      "31:\tlearn: 0.8515654\ttotal: 34.4ms\tremaining: 132ms\n",
      "32:\tlearn: 0.8470247\ttotal: 35.7ms\tremaining: 132ms\n",
      "33:\tlearn: 0.8429804\ttotal: 36.7ms\tremaining: 131ms\n",
      "34:\tlearn: 0.8391743\ttotal: 37.7ms\tremaining: 129ms\n",
      "35:\tlearn: 0.8356674\ttotal: 39.3ms\tremaining: 130ms\n",
      "36:\tlearn: 0.8325058\ttotal: 40.4ms\tremaining: 129ms\n",
      "37:\tlearn: 0.8294575\ttotal: 41.5ms\tremaining: 128ms\n",
      "38:\tlearn: 0.8266661\ttotal: 42.6ms\tremaining: 127ms\n",
      "39:\tlearn: 0.8239161\ttotal: 43.7ms\tremaining: 126ms\n",
      "40:\tlearn: 0.8214865\ttotal: 44.7ms\tremaining: 124ms\n",
      "41:\tlearn: 0.8194015\ttotal: 45.8ms\tremaining: 123ms\n",
      "42:\tlearn: 0.8174665\ttotal: 46.9ms\tremaining: 122ms\n",
      "43:\tlearn: 0.8155825\ttotal: 48ms\tremaining: 121ms\n",
      "44:\tlearn: 0.8139567\ttotal: 49.2ms\tremaining: 120ms\n",
      "45:\tlearn: 0.8123167\ttotal: 50.2ms\tremaining: 119ms\n",
      "46:\tlearn: 0.8107303\ttotal: 51.7ms\tremaining: 119ms\n",
      "47:\tlearn: 0.8091454\ttotal: 52.9ms\tremaining: 118ms\n",
      "48:\tlearn: 0.8077859\ttotal: 53.9ms\tremaining: 117ms\n",
      "49:\tlearn: 0.8064027\ttotal: 55ms\tremaining: 115ms\n",
      "50:\tlearn: 0.8051222\ttotal: 56.3ms\tremaining: 115ms\n",
      "51:\tlearn: 0.8040081\ttotal: 57.3ms\tremaining: 113ms\n",
      "52:\tlearn: 0.8029973\ttotal: 58.3ms\tremaining: 112ms\n",
      "53:\tlearn: 0.8022136\ttotal: 59.6ms\tremaining: 112ms\n",
      "54:\tlearn: 0.8012456\ttotal: 60.6ms\tremaining: 110ms\n",
      "55:\tlearn: 0.8006479\ttotal: 62ms\tremaining: 110ms\n",
      "56:\tlearn: 0.7998148\ttotal: 63.2ms\tremaining: 109ms\n",
      "57:\tlearn: 0.7988981\ttotal: 64.3ms\tremaining: 108ms\n",
      "58:\tlearn: 0.7980508\ttotal: 65.4ms\tremaining: 106ms\n",
      "59:\tlearn: 0.7974608\ttotal: 66.7ms\tremaining: 106ms\n",
      "60:\tlearn: 0.7967992\ttotal: 67.7ms\tremaining: 104ms\n",
      "61:\tlearn: 0.7963117\ttotal: 69.2ms\tremaining: 104ms\n",
      "62:\tlearn: 0.7955675\ttotal: 70.5ms\tremaining: 103ms\n",
      "63:\tlearn: 0.7950672\ttotal: 71.8ms\tremaining: 102ms\n",
      "64:\tlearn: 0.7944762\ttotal: 72.8ms\tremaining: 101ms\n",
      "65:\tlearn: 0.7939706\ttotal: 73.9ms\tremaining: 99.7ms\n",
      "66:\tlearn: 0.7934693\ttotal: 75.1ms\tremaining: 98.6ms\n",
      "67:\tlearn: 0.7930953\ttotal: 76.4ms\tremaining: 97.8ms\n",
      "68:\tlearn: 0.7926868\ttotal: 77.4ms\tremaining: 96.5ms\n",
      "69:\tlearn: 0.7922696\ttotal: 78.5ms\tremaining: 95.3ms\n",
      "70:\tlearn: 0.7918867\ttotal: 79.7ms\tremaining: 94.3ms\n",
      "71:\tlearn: 0.7916302\ttotal: 81.1ms\tremaining: 93.5ms\n",
      "72:\tlearn: 0.7913362\ttotal: 82.2ms\tremaining: 92.3ms\n",
      "73:\tlearn: 0.7910822\ttotal: 83.5ms\tremaining: 91.4ms\n",
      "74:\tlearn: 0.7907916\ttotal: 84.9ms\tremaining: 90.6ms\n",
      "75:\tlearn: 0.7905343\ttotal: 85.8ms\tremaining: 89.2ms\n",
      "76:\tlearn: 0.7902659\ttotal: 86.9ms\tremaining: 88ms\n",
      "77:\tlearn: 0.7899697\ttotal: 88ms\tremaining: 86.9ms\n",
      "78:\tlearn: 0.7897270\ttotal: 89.2ms\tremaining: 85.8ms\n",
      "79:\tlearn: 0.7895648\ttotal: 90.4ms\tremaining: 84.7ms\n",
      "80:\tlearn: 0.7893711\ttotal: 91.9ms\tremaining: 84ms\n",
      "81:\tlearn: 0.7891903\ttotal: 93.2ms\tremaining: 83ms\n",
      "82:\tlearn: 0.7890299\ttotal: 94.2ms\tremaining: 81.7ms\n",
      "83:\tlearn: 0.7888616\ttotal: 95.3ms\tremaining: 80.6ms\n",
      "84:\tlearn: 0.7886937\ttotal: 96.4ms\tremaining: 79.4ms\n",
      "85:\tlearn: 0.7885623\ttotal: 97.4ms\tremaining: 78.1ms\n",
      "86:\tlearn: 0.7883475\ttotal: 98.4ms\tremaining: 76.9ms\n",
      "87:\tlearn: 0.7881416\ttotal: 99.6ms\tremaining: 75.8ms\n",
      "88:\tlearn: 0.7880838\ttotal: 101ms\tremaining: 74.7ms\n",
      "89:\tlearn: 0.7878658\ttotal: 102ms\tremaining: 73.8ms\n",
      "90:\tlearn: 0.7876747\ttotal: 103ms\tremaining: 72.7ms\n",
      "91:\tlearn: 0.7874956\ttotal: 105ms\tremaining: 71.6ms\n",
      "92:\tlearn: 0.7873191\ttotal: 106ms\tremaining: 70.5ms\n",
      "93:\tlearn: 0.7871735\ttotal: 107ms\tremaining: 69.5ms\n",
      "94:\tlearn: 0.7870655\ttotal: 108ms\tremaining: 68.3ms\n",
      "95:\tlearn: 0.7869118\ttotal: 109ms\tremaining: 67.2ms\n",
      "96:\tlearn: 0.7867557\ttotal: 111ms\tremaining: 66.2ms\n",
      "97:\tlearn: 0.7866804\ttotal: 112ms\tremaining: 65ms\n",
      "98:\tlearn: 0.7865649\ttotal: 113ms\tremaining: 63.7ms\n",
      "99:\tlearn: 0.7864519\ttotal: 114ms\tremaining: 62.4ms\n",
      "100:\tlearn: 0.7863929\ttotal: 115ms\tremaining: 61.3ms\n",
      "101:\tlearn: 0.7863099\ttotal: 116ms\tremaining: 60.2ms\n",
      "102:\tlearn: 0.7861953\ttotal: 117ms\tremaining: 59ms\n",
      "103:\tlearn: 0.7861071\ttotal: 118ms\tremaining: 57.7ms\n",
      "104:\tlearn: 0.7859793\ttotal: 119ms\tremaining: 56.5ms\n",
      "105:\tlearn: 0.7858895\ttotal: 119ms\tremaining: 55.2ms\n",
      "106:\tlearn: 0.7857869\ttotal: 121ms\tremaining: 54.1ms\n",
      "107:\tlearn: 0.7857065\ttotal: 122ms\tremaining: 52.9ms\n",
      "108:\tlearn: 0.7856313\ttotal: 123ms\tremaining: 51.8ms\n",
      "109:\tlearn: 0.7854929\ttotal: 124ms\tremaining: 50.8ms\n",
      "110:\tlearn: 0.7854228\ttotal: 125ms\tremaining: 49.7ms\n",
      "111:\tlearn: 0.7853617\ttotal: 126ms\tremaining: 48.6ms\n",
      "112:\tlearn: 0.7853013\ttotal: 128ms\tremaining: 47.5ms\n",
      "113:\tlearn: 0.7852630\ttotal: 129ms\tremaining: 46.3ms\n",
      "114:\tlearn: 0.7851973\ttotal: 130ms\tremaining: 45.1ms\n",
      "115:\tlearn: 0.7851242\ttotal: 131ms\tremaining: 43.9ms\n",
      "116:\tlearn: 0.7850691\ttotal: 132ms\tremaining: 42.7ms\n",
      "117:\tlearn: 0.7850209\ttotal: 133ms\tremaining: 41.6ms\n",
      "118:\tlearn: 0.7849377\ttotal: 134ms\tremaining: 40.4ms\n",
      "119:\tlearn: 0.7848576\ttotal: 135ms\tremaining: 39.2ms\n",
      "120:\tlearn: 0.7847270\ttotal: 136ms\tremaining: 38.1ms\n",
      "121:\tlearn: 0.7846415\ttotal: 137ms\tremaining: 36.9ms\n",
      "122:\tlearn: 0.7846002\ttotal: 138ms\tremaining: 35.8ms\n",
      "123:\tlearn: 0.7845050\ttotal: 139ms\tremaining: 34.7ms\n",
      "124:\tlearn: 0.7844164\ttotal: 140ms\tremaining: 33.6ms\n",
      "125:\tlearn: 0.7842853\ttotal: 141ms\tremaining: 32.4ms\n",
      "126:\tlearn: 0.7841807\ttotal: 142ms\tremaining: 31.3ms\n",
      "127:\tlearn: 0.7841122\ttotal: 143ms\tremaining: 30.2ms\n",
      "128:\tlearn: 0.7840035\ttotal: 144ms\tremaining: 29.1ms\n",
      "129:\tlearn: 0.7839265\ttotal: 146ms\tremaining: 28ms\n",
      "130:\tlearn: 0.7838796\ttotal: 147ms\tremaining: 26.9ms\n",
      "131:\tlearn: 0.7837936\ttotal: 148ms\tremaining: 25.8ms\n",
      "132:\tlearn: 0.7837384\ttotal: 149ms\tremaining: 24.6ms\n",
      "133:\tlearn: 0.7836892\ttotal: 150ms\tremaining: 23.5ms\n",
      "134:\tlearn: 0.7836138\ttotal: 151ms\tremaining: 22.4ms\n",
      "135:\tlearn: 0.7835791\ttotal: 152ms\tremaining: 21.3ms\n",
      "136:\tlearn: 0.7834825\ttotal: 153ms\tremaining: 20.1ms\n",
      "137:\tlearn: 0.7834231\ttotal: 154ms\tremaining: 19ms\n",
      "138:\tlearn: 0.7833643\ttotal: 155ms\tremaining: 17.9ms\n",
      "139:\tlearn: 0.7833018\ttotal: 156ms\tremaining: 16.7ms\n",
      "140:\tlearn: 0.7832154\ttotal: 157ms\tremaining: 15.6ms\n",
      "141:\tlearn: 0.7831550\ttotal: 159ms\tremaining: 14.6ms\n",
      "142:\tlearn: 0.7831022\ttotal: 160ms\tremaining: 13.4ms\n",
      "143:\tlearn: 0.7830237\ttotal: 161ms\tremaining: 12.3ms\n",
      "144:\tlearn: 0.7829431\ttotal: 163ms\tremaining: 11.2ms\n",
      "145:\tlearn: 0.7828718\ttotal: 164ms\tremaining: 10.1ms\n",
      "146:\tlearn: 0.7828312\ttotal: 166ms\tremaining: 9.01ms\n",
      "147:\tlearn: 0.7827670\ttotal: 167ms\tremaining: 7.9ms\n",
      "148:\tlearn: 0.7826773\ttotal: 168ms\tremaining: 6.79ms\n",
      "149:\tlearn: 0.7826384\ttotal: 170ms\tremaining: 5.66ms\n",
      "150:\tlearn: 0.7825682\ttotal: 171ms\tremaining: 4.53ms\n",
      "151:\tlearn: 0.7825160\ttotal: 172ms\tremaining: 3.4ms\n",
      "152:\tlearn: 0.7824435\ttotal: 173ms\tremaining: 2.27ms\n",
      "153:\tlearn: 0.7824012\ttotal: 174ms\tremaining: 1.13ms\n",
      "154:\tlearn: 0.7823499\ttotal: 176ms\tremaining: 0us\n"
     ]
    },
    {
     "data": {
      "text/plain": [
       "RandomizedSearchCV(cv=5,\n",
       "                   estimator=<catboost.core.CatBoostRegressor object at 0x7fe610828d90>,\n",
       "                   n_iter=200, n_jobs=-1,\n",
       "                   param_distributions={'depth': [2, 3, 4, 5, 6],\n",
       "                                        'iterations': [145, 150, 155, 156, 157,\n",
       "                                                       158, 159, 160, 161,\n",
       "                                                       162],\n",
       "                                        'learning_rate': [0.05, 0.045, 0.054,\n",
       "                                                          0.055, 0.056, 0.057,\n",
       "                                                          0.058]},\n",
       "                   verbose=2)"
      ]
     },
     "execution_count": 130,
     "metadata": {},
     "output_type": "execute_result"
    }
   ],
   "source": [
    "from catboost import CatBoostRegressor\n",
    "from sklearn.model_selection import RandomizedSearchCV\n",
    "\n",
    "cb_param_grid = {'depth':[int(x) for x in range(2,7)],\n",
    "            'iterations':[145,150,155,156,157],\n",
    "            'learning_rate':[0.05,0.045,0.054,0.055,0.056,0.057,0.058]}\n",
    "\n",
    "cb_reg = RandomizedSearchCV(CatBoostRegressor(), param_distributions= cb_param_grid, n_iter=200, cv = 5, n_jobs = -1, verbose = 2, return_train_score=False)\n",
    "\n",
    "cb_reg.fit(X_cb, y_cb)"
   ]
  },
  {
   "cell_type": "code",
   "execution_count": 131,
   "metadata": {},
   "outputs": [
    {
     "name": "stdout",
     "output_type": "stream",
     "text": [
      "0.7119265814376265\n",
      "{'learning_rate': 0.054, 'iterations': 155, 'depth': 3}\n"
     ]
    }
   ],
   "source": [
    "print(cb_reg.best_score_)\n",
    "print(cb_reg.best_params_)"
   ]
  },
  {
   "cell_type": "markdown",
   "metadata": {},
   "source": [
    "After hyper-parameter tuning, the R2 score for CatBoost Regressor is 71.19%."
   ]
  },
  {
   "cell_type": "markdown",
   "metadata": {},
   "source": [
    "# Best Model\n",
    "\n",
    "We see that CatBoost Regressor is giving the highest R2 score (71.19%) among all the models.\n",
    "\n",
    "So Catboost with parameters {'learning_rate': 0.054, 'iterations': 155, 'depth': 3} is the Best Model for the Data."
   ]
  },
  {
   "cell_type": "code",
   "execution_count": null,
   "metadata": {},
   "outputs": [],
   "source": [
    "import pickle\n",
    "file = open('catboost_model.pkl','wb')\n",
    "\n",
    "pickle.dump(cb_reg, file)"
   ]
  }
 ],
 "metadata": {
  "kernelspec": {
   "display_name": "Python 3",
   "language": "python",
   "name": "python3"
  },
  "language_info": {
   "codemirror_mode": {
    "name": "ipython",
    "version": 3
   },
   "file_extension": ".py",
   "mimetype": "text/x-python",
   "name": "python",
   "nbconvert_exporter": "python",
   "pygments_lexer": "ipython3",
   "version": "3.7.9"
  }
 },
 "nbformat": 4,
 "nbformat_minor": 4
}
